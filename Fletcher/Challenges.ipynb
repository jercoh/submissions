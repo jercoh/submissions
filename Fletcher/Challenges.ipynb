{
 "metadata": {
  "name": ""
 },
 "nbformat": 3,
 "nbformat_minor": 0,
 "worksheets": [
  {
   "cells": [
    {
     "cell_type": "code",
     "collapsed": false,
     "input": [
      "import twitter_helper"
     ],
     "language": "python",
     "metadata": {},
     "outputs": [],
     "prompt_number": 1
    },
    {
     "cell_type": "code",
     "collapsed": false,
     "input": [
      "reload(twitter_helper)\n",
      "tweets = twitter_helper.search_all(\"baby mats\")"
     ],
     "language": "python",
     "metadata": {},
     "outputs": [
      {
       "output_type": "stream",
       "stream": "stdout",
       "text": [
        "https://api.twitter.com/1.1/search/tweets.json?q=baby+mats&src=typd\n"
       ]
      }
     ],
     "prompt_number": 2
    },
    {
     "cell_type": "code",
     "collapsed": false,
     "input": [
      "import numpy as np\n",
      "from sklearn.feature_extraction.text import TfidfVectorizer\n",
      "from sklearn.naive_bayes import MultinomialNB\n",
      "\n",
      "def text(x):\n",
      "    return x['text']\n",
      "\n",
      "tweet_texts = map(text, tweets)"
     ],
     "language": "python",
     "metadata": {},
     "outputs": [],
     "prompt_number": 5
    },
    {
     "cell_type": "code",
     "collapsed": false,
     "input": [
      "len(tweet_texts)"
     ],
     "language": "python",
     "metadata": {},
     "outputs": [
      {
       "metadata": {},
       "output_type": "pyout",
       "prompt_number": 7,
       "text": [
        "100"
       ]
      }
     ],
     "prompt_number": 7
    },
    {
     "cell_type": "code",
     "collapsed": false,
     "input": [
      "vectorizer = TfidfVectorizer(stop_words=\"english\", ngram_range=(1,2))\n",
      "doc_vectors = vectorizer.fit_transform(tweet_texts)"
     ],
     "language": "python",
     "metadata": {},
     "outputs": [
      {
       "output_type": "stream",
       "stream": "stderr",
       "text": [
        "/Users/Jeremie/Library/Enthought/Canopy_64bit/User/lib/python2.7/site-packages/numpy/core/fromnumeric.py:2499: VisibleDeprecationWarning: `rank` is deprecated; use the `ndim` attribute or function instead. To find the rank of a matrix see `numpy.linalg.matrix_rank`.\n",
        "  VisibleDeprecationWarning)\n"
       ]
      }
     ],
     "prompt_number": 13
    },
    {
     "cell_type": "code",
     "collapsed": false,
     "input": [
      "vectorizer.get_feature_names()"
     ],
     "language": "python",
     "metadata": {},
     "outputs": [
      {
       "metadata": {},
       "output_type": "pyout",
       "prompt_number": 106,
       "text": [
        "[u'aacyc9vpsg',\n",
        " u'baby',\n",
        " u'baby peuter',\n",
        " u'gevuld',\n",
        " u'gevuld kadootjes',\n",
        " u'http',\n",
        " u'http aacyc9vpsg',\n",
        " u'http lni0nrvmv2',\n",
        " u'kadootjes',\n",
        " u'kadootjes voor',\n",
        " u'kleuter',\n",
        " u'kleuter http',\n",
        " u'koffertje',\n",
        " u'koffertje gevuld',\n",
        " u'kraamkado',\n",
        " u'kraamkado mats',\n",
        " u'lni0nrvmv2',\n",
        " u'mats',\n",
        " u'mats koffertje',\n",
        " u'peuter',\n",
        " u'peuter kleuter',\n",
        " u'voor',\n",
        " u'voor baby']"
       ]
      }
     ],
     "prompt_number": 106
    },
    {
     "cell_type": "code",
     "collapsed": false,
     "input": [
      "from sklearn.cluster import  KMeans"
     ],
     "language": "python",
     "metadata": {},
     "outputs": [],
     "prompt_number": 21
    },
    {
     "cell_type": "code",
     "collapsed": false,
     "input": [
      "neigh = KMeans(n_clusters=5)"
     ],
     "language": "python",
     "metadata": {},
     "outputs": [],
     "prompt_number": 38
    },
    {
     "cell_type": "code",
     "collapsed": false,
     "input": [
      "neigh.fit(doc_vectors)"
     ],
     "language": "python",
     "metadata": {},
     "outputs": [
      {
       "metadata": {},
       "output_type": "pyout",
       "prompt_number": 39,
       "text": [
        "KMeans(copy_x=True, init='k-means++', max_iter=300, n_clusters=5, n_init=10,\n",
        "    n_jobs=1, precompute_distances=True, random_state=None, tol=0.0001,\n",
        "    verbose=0)"
       ]
      }
     ],
     "prompt_number": 39
    },
    {
     "cell_type": "code",
     "collapsed": false,
     "input": [
      "neigh.predict(doc_vectors[2])[0]"
     ],
     "language": "python",
     "metadata": {},
     "outputs": [
      {
       "metadata": {},
       "output_type": "pyout",
       "prompt_number": 40,
       "text": [
        "0"
       ]
      }
     ],
     "prompt_number": 40
    },
    {
     "cell_type": "code",
     "collapsed": false,
     "input": [
      "from collections import defaultdict\n",
      "\n",
      "clustered_tweets = defaultdict(list)\n",
      "for i in range(doc_vectors.shape[0]):\n",
      "    clustered_tweets[neigh.predict(doc_vectors[i])[0]].append(tweet_texts[i])"
     ],
     "language": "python",
     "metadata": {},
     "outputs": [],
     "prompt_number": 46
    },
    {
     "cell_type": "code",
     "collapsed": false,
     "input": [
      "for i in clustered_tweets.keys():\n",
      "    for j in range(len(clustered_tweets[i])):\n",
      "        print(\"%i\\t%s\") % (i, clustered_tweets[i][j])"
     ],
     "language": "python",
     "metadata": {},
     "outputs": [
      {
       "output_type": "stream",
       "stream": "stdout",
       "text": [
        "0\tThat's mah baby right there \ud83d\ude2d\n",
        "0\tMeu Baby. Cachorra Linda . #babi @ Cachorra da minha vida *--* http://t.co/N4Z5afrfZp\n",
        "0\t@aerdna_soler you're so sweet naman baby girl \ud83d\ude18 haha i love you so mats\n",
        "0\t12x16 Collage mats for Baby's First Year OR School Days K-12 http://t.co/Mz9jE1FQya via @classycrafts\n",
        "0\tPhotoset: marckoreus: Mats Hummels before leaving to Istanbul (x) ahhhhhh MATS! http://t.co/M5birXX9ZJ\n",
        "0\t36Pcs Baby Kids EVA Puzzle Mats Alphabet Number Educational Toy Foam Room Mat http://t.co/dLpbxLguFE\n",
        "0\t\u201c@Austin_Powers__: It's Friday baby yeah! Very groovy!! http://t.co/6eJBvWRA9Y\u201d @broccoli_robb\n",
        "0\tI've just ordered one of these great baby seat, play mats for my new little grand daughter. Includes a flower... http://t.co/UDyPqgvX8q\n",
        "0\tBaby D &amp; I are meeting for yoga tonight. I'm putting our mats together, bringing pillows and speakers so we can just snuggle the while time.\n",
        "0\tTop 20 Best Selling Baby Non-Slip Bath Mats Bathing &amp; Skin Care 2013-2014 http://t.co/SIOwMMZZkU\n",
        "0\tNew #Baby Item Organic Farmer Shovel Shield Woodcut Place Mats http://t.co/esk7KUKrDn http://t.co/nrZevMvt2d\n",
        "0\tNew #Baby Blanket Item Organic Farmer Shovel Shield Woodcut Place Mats http://t.co/esk7KUKrDn http://t.co/kBnLCbjtwa\n",
        "0\tI just had to order some gym mats b/c my baby is climbing the walls and I feel like @IKEA online shipping costs are now much better.\n",
        "0\t@juliaclairesj happy monthsary baby!!!! :* i love you so mats hihihi\n",
        "0\tFor my birthday I bought myself car mats that match the trim of the baby seat. I'm not sure if I'm even alive any more.\n",
        "0\tzUpK gEe? \ud83d\ude02\ud83d\ude02 Too cute! Hello Baby! Gangsters us, hihihi! \ud83d\ude01 LaBk yOw mAts! \ud83d\ude18 http://t.co/ceiwRmQlAH\n",
        "0\tneed to buy mats for my baby\n",
        "0\tBaby mats kapa jan!\n",
        "0\tZasa Butterfly Toy Baby Play Mats &amp; Floor Gyms for Children 95*85cm http://t.co/xKuQdGwLcP #feeding\n",
        "0\tEveryone says Adorable! Cute! When they see #baby activity play mats @BelliesBabiesVA 1913 Mt Vernon Av Alex VA http://t.co/Y2twq5iJMf\n",
        "0\t*HOT* HUGE Skip Hop sale going on + promo code to save an additional 20% OFF! http://t.co/YULhccepsg #baby #sale #coupon #Christmas\n",
        "0\tCute mo dito eh anah \ud83d\ude01 Happy 17th baby!! Ganyan lang lagi oki bawal sad. I love you soooo biri mats \ud83d\udc95 @kebpogiii http://t.co/VKMzxh3ofr\n",
        "0\tFind out how to #WIN 1 of 4 @SafetotsUK NappyTime #Baby Changing mats here: https://t.co/qoBOiuK9st Ends Thursday 11.59pm! #Goodluck\n",
        "0\tWhat do you think to our #frozen baby changing mats! http://t.co/3mj42C3dlZ http://t.co/8tfJPrXoJ6\n",
        "0\tThe world's cutest #baby session blogged. #familyphotography #toocute #photography http://t.co/ygY1Ya7IOX\n",
        "0\tBaby has been moving so much tonight. Every time I put Mats hand on my belly to feel, it stops. Stubborn like momma!\ud83d\udc81\u263a\ufe0f\n",
        "0\t12x16 Collage mats for Baby's First Year OR School Days K-12 http://t.co/zWFATEJUYO via @classycrafts\n",
        "0\t12x16 Collage mats for Baby's First Year OR School Days K-12 http://t.co/Mz9jE1FQya via @classycrafts\n",
        "0\t36Pcs Alphabet Number EVA Puzzle Foam Mats Baby Child Kids Educational Toy Gift http://t.co/VT83FjeNwz\n",
        "0\tHow many times does your rolling and attempting to crawl baby have to smoke his face on the floor before you order ABC mats? 5 times I guess\n",
        "0\t@themonsterist pillow cases, baby rompers, slip-mats..\n",
        "0\t\"@trappolatwo: \"@mimi_cmoi: Petit d\u00e9j incognito ^^ http://t.co/GTsKedgR7q\" godmorgon, bonjour, buongiorno\" Baby babyyyyyyyy\n",
        "0\tJust been told off by staff at baby gym in front of my 3 year old!apparently the crash mats and trampolines are for kids only! #killjoys\n",
        "0\tI miss my baby and her leapard floor mats and steering wheel cover\n",
        "0\tpakiayos si baby pag nakita mo. hehe... tenk yu biri mats!!!!\n",
        "0\tWashed my car, vacuumed it, and washed the floor mats and got new license plate frames. My baby looks so nice\ud83d\ude0d\ud83d\ude0a\ud83d\udc51\ud83d\ude98\ud83d\udc4c\n",
        "0\tEew~ that 'baby' SUYA MATS\n",
        "0\t@Diane_Saxon Oh, poor baby. I hope he recovers from the op etc soon. Mats sound good. Crash mats :-)\n",
        "0\t@camilluuhh i luhh u so mats baby girl :*\n",
        "0\t@_Damnqueenjezz hehehehe. mats bettir. \ud83d\ude04\ud83d\ude0a\u263a\ud83d\ude1a ILOVEYOUUUMORE BABY. \ud83d\udc98\ud83d\udc44\ud83d\ude18\ud83d\ude0d\n",
        "0\t\"Diane baby, gising na\" @mdanicolas MWAHA. LAB YOW SOW MATS.\n",
        "0\tGio's birthday giveaway! Happy birthday 2nd birthday baby Gio! Love mats! :* #Cars http://t.co/3wr6BnL06y\n",
        "0\tMARK DAVID MENDOZA is \u2764 Galing talaga ni baby. Yieeeeeh. Kileg mats. :))))\n",
        "0\tTaking my baby boy to another Footbool mats! Wish us good luck!\ud83d\ude4f\n",
        "0\t&lt;3 &lt;3 &lt;3 Gorgeous Baby Whale Mats &lt;3 &lt;3 &lt;3\n",
        "Comment below on what you think.\n",
        "0\tBestToys: Soft Foam Alphabet Baby Puzzle Play Mat - 26 Letter Set http://t.co/PNYGvN5jZE #$25to$50\n",
        "0\t@_malumesquita i don't sing.. but i dace.. sexual dance baby kkkk\n",
        "0\t@terrenceaustria kilig mats baby hihi\n",
        "0\tCheck out @babySTEALS today -our mats in our new softer, smoother &amp; more durable fabric Only $19.99 http://t.co/RmdpsT0OH9 #newmommy #baby\n",
        "0\t@iSpeakNow_13 ah..at least they're okay.\n",
        "strange..why were there baby rats under mats? (Rhymed)\n",
        "0\tI look at it like this: no all the baby turtles make it to the ocean, not all my piss makes it into the bowl. That's what bath mats are for.\n",
        "0\tLUXURIOUS Chenille Baby Nap Mats!!! \n",
        "Embellished with Gorgeous Satin Ribbon. \n",
        "https://t.co/MCvNYJNdIa http://t.co/jsHdR34zd8\n",
        "0\thttp://t.co/Iq2FuO2KA2 #gutenMorgenWelt #kuschel #Time, #Baby #Mats ist #krank und hat #Sehnsucht nach seiner #... http://t.co/rLriPLNJ0w\n",
        "0\t#gutenMorgenWelt #kuschel #Time, #Baby #Mats ist #krank und hat #Sehnsucht nach seiner #Tante \u2013 also ab auf die\u2026 http://t.co/VfpgJC7x6N\n",
        "0\thaters gonna hate hate hate hate. baby I'M JUST GONNA SHAKE SHAKE SHAKE. SHAKE IT OFF! Insecure mats?\n",
        "0\tBaby Seat Accessory - Brica 2 Pack Kick Mats, Black http://t.co/cKRTt2L3dY\n",
        "0\tHAPPY BIRTHDAY BABY \ud83d\ude18\ud83d\ude0d @Daniii_mats\n",
        "0\t@Daniii_mats happy almost birthday baby!!!! I'll drink for you tonight\n",
        "0\treturn haz mats wed 15oct... you baby--the turles... cars--gary numan... pretty girl why--the buffalo (cont) http://t.co/RVmR0bAh27\n",
        "0\t@deo_favente1 not usually. I have a 30 hour MATS. Baby MA. But, it might be worth a shot I'll talk at the missus.\n",
        "0\tGreat For Newborn Babies - Winners of SIX Major Awards!!! \n",
        "The Baby Nap Mats that Mums LOVE!\n",
        "http://t.co/YoMKBJXgwN http://t.co/EnNr5nP4tB\n",
        "0\t. thinking about cleaning my baby today &amp; putting my new seat covers and floor mats in \ud83d\ude0d\ud83d\ude16\n",
        "0\tOur memory foam changing mats are so comfy for your baby. \n",
        "http://t.co/CvGMVD5xQ9 #nappychange http://t.co/345i103lkt\n",
        "1\tKasama ko si baby kanina. :) &lt;3\n",
        "1\tRT @SweeeetheartRK: \u201c@cielalelilolu: All red baby \ud83d\udd25\n",
        "#HAPPYSWEETHEARTSDAY http://t.co/jPrxpI92tL\u201dHOT MATS\ud83d\ude0d\ud83d\udd25 #HappySweetheartsDay\n",
        "1\t\u201c@cielalelilolu: All red baby \ud83d\udd25\n",
        "#HAPPYSWEETHEARTSDAY http://t.co/jPrxpI92tL\u201dHOT MATS\ud83d\ude0d\ud83d\udd25 #HappySweetheartsDay\n",
        "1\tRT @konsensuseliten: Lajv it like you mean it baby!\n",
        "Mvh Milj\u00f6partiet http://t.co/GPyI3r63yN\n",
        "1\tRT @BarcaNaija: \"You don't throw away the baby &amp; the bath water\". MATS billed to start tonight's UCL game vs Ajax   http://t.co/kZpMTQHDs6\n",
        "1\t\"You don't throw away the baby &amp; the bath water\". MATS billed to start tonight's UCL game vs Ajax   http://t.co/kZpMTQHDs6\n",
        "1\tRT @ellezor23: \u201c@AgentTokyo_14: I just love my baby shisters.. miss you all.. \ud83d\ude2d see u soon..\u201d \ud83d\ude18\ud83d\ude18\ud83d\ude18 i love you brader. Miss you so mats. See \u2026\n",
        "1\t\u201c@AgentTokyo_14: I just love my baby shisters.. miss you all.. \ud83d\ude2d see u soon..\u201d \ud83d\ude18\ud83d\ude18\ud83d\ude18 i love you brader. Miss you so mats. See you sana :(\n",
        "1\tRT @KerenPunaa: \u042d\u043d\u044d \u0431\u0438 \u0445\u04af\u04af\u0442\u044d\u0439\u0433\u044d\u044d \u0433\u044d\u0441\u0441 \u0445\u0430\u0445\u0430 \"@BBAnimals: baby tiger bath time \ud83d\udc2f\ud83d\udc45 http://t.co/5np20YoHGy\"\n",
        "1\tRT @qwerTHEAA: @meganmtchll take care of yourself baby megan omg i actually miss you so mats :(\n",
        "1\t@meganmtchll take care of yourself baby megan omg i actually miss you so mats :(\n",
        "1\tRT @planetepics: Her baby loves to snuggle http://t.co/zW6oOdw7aT\n",
        "1\tRT @TheSexyPigglet: @Itsgarlan1 kakaibabe ko :* hi baby ILY mats :* http://t.co/obTjfuXvar\n",
        "1\t@Itsgarlan1 kakaibabe ko :* hi baby ILY mats :* http://t.co/obTjfuXvar\n",
        "1\tGANDA PO NI MS. RHIA PINAGBIGYAN NIYA KO SA ONE POINT HAHAHAHAHAHA LABYU SO MATS MISS PASOK KA NA PLS. CUTI NG BABY MO HAHAHAHA MWA\n",
        "1\tRT @iSpeakNow_13: WE FOUND BABY RATS IN OUR CHEER MATS AT PRACTICE AND I DIED LIKE ACTUALLY DIED RIP ME \ud83d\ude37 http://t.co/AXwmxj4QHI\n",
        "1\tWE FOUND BABY RATS IN OUR CHEER MATS AT PRACTICE AND I DIED LIKE ACTUALLY DIED RIP ME \ud83d\ude37 http://t.co/AXwmxj4QHI\n",
        "1\tRT @EpicKaitlin: brassard stealing sweet baby angel mats' goal what a #jerk\n",
        "1\tbrassard stealing sweet baby angel mats' goal what a #jerk\n",
        "1\tRT @sandman1484: Here in my finest baby bunny.. Thank me later http://t.co/h3BqBJvpGv\n",
        "2\thttp://t.co/zXXUQZuhvS YOOKIDOO BABY GYM AND PLAY MATS http://t.co/SRXhm4QGmy\n",
        "2\tYookidoo Baby Gym and Play Mats #GetZeDeals http://t.co/Giek7D8wzN\n",
        "2\t@BuyCheapz .com:  Yookidoo Baby Gym and Play Mats http://t.co/2x11GAMOdh\n",
        "2\t#GOLDBOX BEST BUY Yookidoo Baby Gym and Play Mats: List Price: $99.99Deal Price: $69.95You\u2026 http://t.co/gkIkxK4jQn\n",
        "2\tYookidoo Baby Gym and Play Mats: List Price: $99.99Deal Price: $69.95 You Save: $30.04 (30\u2026 http://t.co/AMscQmxo1I\n",
        "2\tYookidoo Baby Gym and Play Mats http://t.co/wudoRfVUjW\n",
        "2\tYookidoo Baby Gym and Play Mats: List Price: $99.99Deal Price: $69.95You Save: $30.04 (30%)For a limited time,... http://t.co/uW44xDySjX\n",
        "2\tDaily #Deals Yookidoo Baby Gym and Play Mats - List Price: $99.99 Deal Price: $69.95 You Save: $30.04 (30%) For a ... http://t.co/GavYk4Llak\n",
        "2\tYookidoo Baby Gym and Play Mats http://t.co/aRbcY1ZJhE\n",
        "2\tBaby play mats http://t.co/PXzMq8k0iK\n",
        "2\tDid you see our Very Hungry Caterpillar @TheVHC Tummy Time Play Mat on @MotherAndBaby  Best Play Mats feature? #baby http://t.co/AiAdrDsVMk\n",
        "2\tDid you see our Very Hungry Caterpillar @TheVHC Tummy Time Play Mat on @MotherAndBaby  Best Play Mats feature? #baby http://t.co/wiFfzbJeg8\n",
        "3\t@zxcvbnhicolem hahaha whyyyyy baby? Imma want to tell something   and show you something. Im so mats obsess ! O.o\n",
        "3\t@lyre_12 hahaha musta na ang baby ko hahahaha kilig mats\n",
        "3\tTELL EM TELL EM B B B B BABY I'M ON FIREBALL\n",
        "4\tKraamkado Mats | Koffertje gevuld! | \u00a0Kadootjes voor baby, peuter, kleuter http://t.co/aACyc9vPSg\n",
        "4\tKraamkado Mats | Koffertje gevuld! | \u00a0Kadootjes voor baby, peuter, kleuter http://t.co/Lni0NrvMv2\n"
       ]
      }
     ],
     "prompt_number": 51
    },
    {
     "cell_type": "code",
     "collapsed": false,
     "input": [
      "neigh.inertia_"
     ],
     "language": "python",
     "metadata": {},
     "outputs": [
      {
       "metadata": {},
       "output_type": "pyout",
       "prompt_number": 52,
       "text": [
        "89.42090726922935"
       ]
      }
     ],
     "prompt_number": 52
    },
    {
     "cell_type": "code",
     "collapsed": false,
     "input": [
      "inertias = []\n",
      "for i in range(1,15):\n",
      "    neigh = KMeans(n_clusters=i)\n",
      "    neigh.fit(doc_vectors)\n",
      "    inertias.append(neigh.inertia_)\n",
      "\n",
      "import matplotlib.pyplot as plt\n",
      "%matplotlib inline\n",
      "plt.plot(range(1,15), inertias)"
     ],
     "language": "python",
     "metadata": {},
     "outputs": [
      {
       "metadata": {},
       "output_type": "pyout",
       "prompt_number": 272,
       "text": [
        "[<matplotlib.lines.Line2D at 0x11993e590>]"
       ]
      },
      {
       "metadata": {},
       "output_type": "display_data",
       "png": "[encoded data removed]",
       "text": [
        "<matplotlib.figure.Figure at 0x119578750>"
       ]
      }
     ],
     "prompt_number": 272
    },
    {
     "cell_type": "code",
     "collapsed": false,
     "input": [
      "neigh.cluster_centers_"
     ],
     "language": "python",
     "metadata": {},
     "outputs": [
      {
       "metadata": {},
       "output_type": "pyout",
       "prompt_number": 60,
       "text": [
        "array([[ 0.        ,  0.        ,  0.        , ...,  0.02063887,\n",
        "         0.02063887,  0.02063887],\n",
        "       [ 0.12280392,  0.12280392,  0.        , ...,  0.        ,\n",
        "         0.        ,  0.        ],\n",
        "       [ 0.        ,  0.        ,  0.00326085, ...,  0.        ,\n",
        "         0.        ,  0.        ],\n",
        "       [ 0.        ,  0.        ,  0.        , ...,  0.        ,\n",
        "         0.        ,  0.        ],\n",
        "       [ 0.        ,  0.        ,  0.        , ...,  0.        ,\n",
        "         0.        ,  0.        ]])"
       ]
      }
     ],
     "prompt_number": 60
    },
    {
     "cell_type": "code",
     "collapsed": false,
     "input": [
      "from sklearn.metrics import pairwise_distances\n",
      "distances = pairwise_distances(doc_vectors, neigh.cluster_centers_)"
     ],
     "language": "python",
     "metadata": {},
     "outputs": [],
     "prompt_number": 61
    },
    {
     "cell_type": "code",
     "collapsed": false,
     "input": [
      "distances.shape"
     ],
     "language": "python",
     "metadata": {},
     "outputs": [
      {
       "metadata": {},
       "output_type": "pyout",
       "prompt_number": 63,
       "text": [
        "(100, 5)"
       ]
      }
     ],
     "prompt_number": 63
    },
    {
     "cell_type": "code",
     "collapsed": false,
     "input": [
      "np.argmax(distances[:,4])"
     ],
     "language": "python",
     "metadata": {},
     "outputs": [
      {
       "metadata": {},
       "output_type": "pyout",
       "prompt_number": 99,
       "text": [
        "68"
       ]
      }
     ],
     "prompt_number": 99
    },
    {
     "cell_type": "code",
     "collapsed": false,
     "input": [
      "tweet_texts[68]"
     ],
     "language": "python",
     "metadata": {},
     "outputs": [
      {
       "metadata": {},
       "output_type": "pyout",
       "prompt_number": 100,
       "text": [
        "u'&lt;3 &lt;3 &lt;3 Gorgeous Baby Whale Mats &lt;3 &lt;3 &lt;3\\nComment below on what you think.'"
       ]
      }
     ],
     "prompt_number": 100
    },
    {
     "cell_type": "markdown",
     "metadata": {},
     "source": [
      "Let's name the clusters 2\n",
      "---"
     ]
    },
    {
     "cell_type": "code",
     "collapsed": false,
     "input": [
      "vectorized_clusters = defaultdict(list)\n",
      "\n",
      "for cluster_number in clustered_tweets.keys():\n",
      "    vectorized_clusters[cluster_number] = (vectorizer.fit_transform(clustered_tweets[cluster_number]),\n",
      "                                           vectorizer.get_feature_names())"
     ],
     "language": "python",
     "metadata": {},
     "outputs": [],
     "prompt_number": 109
    },
    {
     "cell_type": "code",
     "collapsed": false,
     "input": [
      "for key in vectorized_clusters.keys():\n",
      "    ind = np.argsort(vectorized_clusters[key][0].sum(axis=0))[0,-5:].getA1()\n",
      "    print(\"Cluster-%i\\t%i\\t%s\") % (key,len(vectorized_clusters[key][1]), [vectorized_clusters[key][1][i] for i in ind])"
     ],
     "language": "python",
     "metadata": {},
     "outputs": [
      {
       "output_type": "stream",
       "stream": "stdout",
       "text": [
        "Cluster-0\t993\t[u'birthday', u'mats baby', u'http', u'mats', u'baby']\n",
        "Cluster-1\t257\t[u'miss', u'rt', u'http', u'mats', u'baby']\n",
        "Cluster-2\t111\t[u'mats', u'baby', u'mats http', u'http', u'play']\n",
        "Cluster-3\t41\t[u'hahaha', u'baby', u'tell em', u'em', u'tell']\n",
        "Cluster-4\t23\t[u'gevuld', u'baby peuter', u'baby', u'voor', u'voor baby']\n"
       ]
      }
     ],
     "prompt_number": 188
    },
    {
     "cell_type": "markdown",
     "metadata": {},
     "source": [
      "Let's name the clusters 3\n",
      "---"
     ]
    },
    {
     "cell_type": "code",
     "collapsed": false,
     "input": [
      "from nltk.tag import pos_tag\n",
      "from nltk.tokenize import word_tokenize\n",
      "\n",
      "clustered_nouns = defaultdict(list)\n",
      "for i in clustered_tweets.keys():\n",
      "    for tweets in clustered_tweets[i]:\n",
      "        words = word_tokenize(tweets)\n",
      "        words = [word.lower() for word in words]\n",
      "        nouns = [word[0] for word in pos_tag(words) if word[1] == 'NN' or word[1] == 'NNS']\n",
      "        clustered_nouns[i].append(nouns)"
     ],
     "language": "python",
     "metadata": {},
     "outputs": [],
     "prompt_number": 232
    },
    {
     "cell_type": "code",
     "collapsed": false,
     "input": [
      "def make_sentence(l):\n",
      "    sentence = ''\n",
      "    for word in l:\n",
      "        sentence += word+' '\n",
      "    return sentence[:-1]\n",
      "\n",
      "for key in clustered_nouns.keys():\n",
      "    clustered_nouns[key] = map(make_sentence, clustered_nouns[key])"
     ],
     "language": "python",
     "metadata": {},
     "outputs": [],
     "prompt_number": 251
    },
    {
     "cell_type": "code",
     "collapsed": false,
     "input": [
      "for cluster_number in clustered_nouns.keys():\n",
      "    vectorized_clusters[cluster_number] = (vectorizer.fit_transform(clustered_nouns[cluster_number]),\n",
      "                                           vectorizer.get_feature_names())"
     ],
     "language": "python",
     "metadata": {},
     "outputs": [],
     "prompt_number": 252
    },
    {
     "cell_type": "code",
     "collapsed": false,
     "input": [
      "for key in vectorized_clusters.keys():\n",
      "    ind = np.argsort(vectorized_clusters[key][0].sum(axis=0))[0,-5:].getA1()\n",
      "    print(\"Cluster-%i\\t%i\\t%s\") % (key,len(vectorized_clusters[key][1]), [vectorized_clusters[key][1][i] for i in ind])"
     ],
     "language": "python",
     "metadata": {},
     "outputs": [
      {
       "output_type": "stream",
       "stream": "stdout",
       "text": [
        "Cluster-0\t265\t[u'floor', u'birthday', u'http http', u'baby', u'http']\n",
        "Cluster-1\t65\t[u'miss', u'rt http', u'baby', u'rt', u'http']\n",
        "Cluster-2\t8\t[u'baby', u'baby http', u'feature', u'feature baby', u'http']\n",
        "Cluster-3\t24\t[u'whyyyyy', u'whyyyyy baby', u'zxcvbnhicolem hahaha', u'hahaha', u'baby']\n",
        "Cluster-4\t9\t[u'kleuter http', u'peuter', u'peuter kleuter', u'voor', u'voor baby']\n"
       ]
      }
     ],
     "prompt_number": 254
    },
    {
     "cell_type": "markdown",
     "metadata": {},
     "source": [
      "Challenge 6\n",
      "---"
     ]
    },
    {
     "cell_type": "code",
     "collapsed": false,
     "input": [
      "from sklearn.cluster import MiniBatchKMeans\n",
      "\n",
      "neigh_batch = MiniBatchKMeans(n_clusters=5)\n",
      "neigh_batch.fit(doc_vectors)\n",
      "\n",
      "batch_clustered_tweets = defaultdict(list)\n",
      "for i in range(doc_vectors.shape[0]):\n",
      "    batch_clustered_tweets[neigh_batch.predict(doc_vectors[i])[0]].append(tweet_texts[i])"
     ],
     "language": "python",
     "metadata": {},
     "outputs": [],
     "prompt_number": 255
    },
    {
     "cell_type": "code",
     "collapsed": false,
     "input": [
      "vectorized_clusters = defaultdict(list)\n",
      "\n",
      "for cluster_number in batch_clustered_tweets.keys():\n",
      "    vectorized_clusters[cluster_number] = (vectorizer.fit_transform(batch_clustered_tweets[cluster_number]),\n",
      "                                           vectorizer.get_feature_names())\n",
      "    \n",
      "for key in vectorized_clusters.keys():\n",
      "    ind = np.argsort(vectorized_clusters[key][0].sum(axis=0))[0,-5:].getA1()\n",
      "    print(\"Cluster-%i\\t%i\\t%s\") % (key,len(vectorized_clusters[key][1]), [vectorized_clusters[key][1][i] for i in ind])"
     ],
     "language": "python",
     "metadata": {},
     "outputs": [
      {
       "output_type": "stream",
       "stream": "stdout",
       "text": [
        "Cluster-0\t42\t[u'baby http', u'http cvgmvd5xq9', u'baby', u'mats', u'http']\n",
        "Cluster-1\t83\t[u'play mat', u'mat', u'http', u'baby', u'play']\n",
        "Cluster-2\t30\t[u'itsgarlan1', u'itsgarlan1 kakaibabe', u'kakaibabe', u'ko', u'baby']\n",
        "Cluster-3\t1231\t[u'play mats', u'play', u'http', u'mats', u'baby']\n",
        "Cluster-4\t24\t[u'12x16 collage', u'12x16', u'12 http', u'days 12', u'http']\n"
       ]
      }
     ],
     "prompt_number": 262
    },
    {
     "cell_type": "markdown",
     "metadata": {},
     "source": [
      "Challenge 7\n",
      "---"
     ]
    },
    {
     "cell_type": "code",
     "collapsed": false,
     "input": [
      "inertias = []\n",
      "for i in [1,2,3,10]:\n",
      "    neigh = KMeans(n_clusters=5, init='random', n_init=i)\n",
      "    neigh.fit(doc_vectors)\n",
      "    inertias.append(neigh.inertia_)\n",
      "\n",
      "import matplotlib.pyplot as plt\n",
      "%matplotlib inline\n",
      "plt.plot([1,2,3,10], inertias)"
     ],
     "language": "python",
     "metadata": {},
     "outputs": [
      {
       "metadata": {},
       "output_type": "pyout",
       "prompt_number": 269,
       "text": [
        "[<matplotlib.lines.Line2D at 0x11996ced0>]"
       ]
      },
      {
       "metadata": {},
       "output_type": "display_data",
       "png": "[encoded data removed]",
       "text": [
        "<matplotlib.figure.Figure at 0x11957cfd0>"
       ]
      }
     ],
     "prompt_number": 269
    },
    {
     "cell_type": "markdown",
     "metadata": {},
     "source": [
      "Challenge 8\n",
      "---"
     ]
    },
    {
     "cell_type": "code",
     "collapsed": false,
     "input": [
      "import pandas as pd\n",
      "\n",
      "df = pd.DataFrame.from_csv(open('Wholesale customers data.csv','r'))\n",
      "df = df.reset_index()"
     ],
     "language": "python",
     "metadata": {},
     "outputs": [],
     "prompt_number": 310
    },
    {
     "cell_type": "code",
     "collapsed": false,
     "input": [
      "df.describe()"
     ],
     "language": "python",
     "metadata": {},
     "outputs": [
      {
       "html": [
        "<div style=\"max-height:1000px;max-width:1500px;overflow:auto;\">\n",
        "<table border=\"1\" class=\"dataframe\">\n",
        "  <thead>\n",
        "    <tr style=\"text-align: right;\">\n",
        "      <th></th>\n",
        "      <th>Channel</th>\n",
        "      <th>Region</th>\n",
        "      <th>Fresh</th>\n",
        "      <th>Milk</th>\n",
        "      <th>Grocery</th>\n",
        "      <th>Frozen</th>\n",
        "      <th>Detergents_Paper</th>\n",
        "      <th>Delicassen</th>\n",
        "    </tr>\n",
        "  </thead>\n",
        "  <tbody>\n",
        "    <tr>\n",
        "      <th>count</th>\n",
        "      <td> 440.000000</td>\n",
        "      <td> 440.000000</td>\n",
        "      <td>    440.000000</td>\n",
        "      <td>   440.000000</td>\n",
        "      <td>   440.000000</td>\n",
        "      <td>   440.000000</td>\n",
        "      <td>   440.000000</td>\n",
        "      <td>   440.000000</td>\n",
        "    </tr>\n",
        "    <tr>\n",
        "      <th>mean</th>\n",
        "      <td>   1.322727</td>\n",
        "      <td>   2.543182</td>\n",
        "      <td>  12000.297727</td>\n",
        "      <td>  5796.265909</td>\n",
        "      <td>  7951.277273</td>\n",
        "      <td>  3071.931818</td>\n",
        "      <td>  2881.493182</td>\n",
        "      <td>  1524.870455</td>\n",
        "    </tr>\n",
        "    <tr>\n",
        "      <th>std</th>\n",
        "      <td>   0.468052</td>\n",
        "      <td>   0.774272</td>\n",
        "      <td>  12647.328865</td>\n",
        "      <td>  7380.377175</td>\n",
        "      <td>  9503.162829</td>\n",
        "      <td>  4854.673333</td>\n",
        "      <td>  4767.854448</td>\n",
        "      <td>  2820.105937</td>\n",
        "    </tr>\n",
        "    <tr>\n",
        "      <th>min</th>\n",
        "      <td>   1.000000</td>\n",
        "      <td>   1.000000</td>\n",
        "      <td>      3.000000</td>\n",
        "      <td>    55.000000</td>\n",
        "      <td>     3.000000</td>\n",
        "      <td>    25.000000</td>\n",
        "      <td>     3.000000</td>\n",
        "      <td>     3.000000</td>\n",
        "    </tr>\n",
        "    <tr>\n",
        "      <th>25%</th>\n",
        "      <td>   1.000000</td>\n",
        "      <td>   2.000000</td>\n",
        "      <td>   3127.750000</td>\n",
        "      <td>  1533.000000</td>\n",
        "      <td>  2153.000000</td>\n",
        "      <td>   742.250000</td>\n",
        "      <td>   256.750000</td>\n",
        "      <td>   408.250000</td>\n",
        "    </tr>\n",
        "    <tr>\n",
        "      <th>50%</th>\n",
        "      <td>   1.000000</td>\n",
        "      <td>   3.000000</td>\n",
        "      <td>   8504.000000</td>\n",
        "      <td>  3627.000000</td>\n",
        "      <td>  4755.500000</td>\n",
        "      <td>  1526.000000</td>\n",
        "      <td>   816.500000</td>\n",
        "      <td>   965.500000</td>\n",
        "    </tr>\n",
        "    <tr>\n",
        "      <th>75%</th>\n",
        "      <td>   2.000000</td>\n",
        "      <td>   3.000000</td>\n",
        "      <td>  16933.750000</td>\n",
        "      <td>  7190.250000</td>\n",
        "      <td> 10655.750000</td>\n",
        "      <td>  3554.250000</td>\n",
        "      <td>  3922.000000</td>\n",
        "      <td>  1820.250000</td>\n",
        "    </tr>\n",
        "    <tr>\n",
        "      <th>max</th>\n",
        "      <td>   2.000000</td>\n",
        "      <td>   3.000000</td>\n",
        "      <td> 112151.000000</td>\n",
        "      <td> 73498.000000</td>\n",
        "      <td> 92780.000000</td>\n",
        "      <td> 60869.000000</td>\n",
        "      <td> 40827.000000</td>\n",
        "      <td> 47943.000000</td>\n",
        "    </tr>\n",
        "  </tbody>\n",
        "</table>\n",
        "</div>"
       ],
       "metadata": {},
       "output_type": "pyout",
       "prompt_number": 311,
       "text": [
        "          Channel      Region          Fresh          Milk       Grocery  \\\n",
        "count  440.000000  440.000000     440.000000    440.000000    440.000000   \n",
        "mean     1.322727    2.543182   12000.297727   5796.265909   7951.277273   \n",
        "std      0.468052    0.774272   12647.328865   7380.377175   9503.162829   \n",
        "min      1.000000    1.000000       3.000000     55.000000      3.000000   \n",
        "25%      1.000000    2.000000    3127.750000   1533.000000   2153.000000   \n",
        "50%      1.000000    3.000000    8504.000000   3627.000000   4755.500000   \n",
        "75%      2.000000    3.000000   16933.750000   7190.250000  10655.750000   \n",
        "max      2.000000    3.000000  112151.000000  73498.000000  92780.000000   \n",
        "\n",
        "             Frozen  Detergents_Paper    Delicassen  \n",
        "count    440.000000        440.000000    440.000000  \n",
        "mean    3071.931818       2881.493182   1524.870455  \n",
        "std     4854.673333       4767.854448   2820.105937  \n",
        "min       25.000000          3.000000      3.000000  \n",
        "25%      742.250000        256.750000    408.250000  \n",
        "50%     1526.000000        816.500000    965.500000  \n",
        "75%     3554.250000       3922.000000   1820.250000  \n",
        "max    60869.000000      40827.000000  47943.000000  "
       ]
      }
     ],
     "prompt_number": 311
    },
    {
     "cell_type": "code",
     "collapsed": false,
     "input": [
      "# Feature Scaling\n",
      "columns_to_scale = ['Fresh', 'Milk', 'Grocery', 'Frozen', 'Detergents_Paper', 'Delicassen']\n",
      "for column in columns_to_scale:\n",
      "    df[column] = df[column].map(lambda x: (x-df[column].min())/float(df[column].max()-df[column].min()))"
     ],
     "language": "python",
     "metadata": {},
     "outputs": [],
     "prompt_number": 312
    },
    {
     "cell_type": "code",
     "collapsed": false,
     "input": [
      "df.head()"
     ],
     "language": "python",
     "metadata": {},
     "outputs": [
      {
       "html": [
        "<div style=\"max-height:1000px;max-width:1500px;overflow:auto;\">\n",
        "<table border=\"1\" class=\"dataframe\">\n",
        "  <thead>\n",
        "    <tr style=\"text-align: right;\">\n",
        "      <th></th>\n",
        "      <th>Channel</th>\n",
        "      <th>Region</th>\n",
        "      <th>Fresh</th>\n",
        "      <th>Milk</th>\n",
        "      <th>Grocery</th>\n",
        "      <th>Frozen</th>\n",
        "      <th>Detergents_Paper</th>\n",
        "      <th>Delicassen</th>\n",
        "    </tr>\n",
        "  </thead>\n",
        "  <tbody>\n",
        "    <tr>\n",
        "      <th>0</th>\n",
        "      <td> 2</td>\n",
        "      <td> 3</td>\n",
        "      <td> 0.112940</td>\n",
        "      <td> 0.130727</td>\n",
        "      <td> 0.081464</td>\n",
        "      <td> 0.003106</td>\n",
        "      <td> 0.065427</td>\n",
        "      <td> 0.027847</td>\n",
        "    </tr>\n",
        "    <tr>\n",
        "      <th>1</th>\n",
        "      <td> 2</td>\n",
        "      <td> 3</td>\n",
        "      <td> 0.062899</td>\n",
        "      <td> 0.132824</td>\n",
        "      <td> 0.103097</td>\n",
        "      <td> 0.028548</td>\n",
        "      <td> 0.080590</td>\n",
        "      <td> 0.036984</td>\n",
        "    </tr>\n",
        "    <tr>\n",
        "      <th>2</th>\n",
        "      <td> 2</td>\n",
        "      <td> 3</td>\n",
        "      <td> 0.056622</td>\n",
        "      <td> 0.119181</td>\n",
        "      <td> 0.082790</td>\n",
        "      <td> 0.039116</td>\n",
        "      <td> 0.086052</td>\n",
        "      <td> 0.163559</td>\n",
        "    </tr>\n",
        "    <tr>\n",
        "      <th>3</th>\n",
        "      <td> 1</td>\n",
        "      <td> 3</td>\n",
        "      <td> 0.118254</td>\n",
        "      <td> 0.015536</td>\n",
        "      <td> 0.045464</td>\n",
        "      <td> 0.104842</td>\n",
        "      <td> 0.012346</td>\n",
        "      <td> 0.037234</td>\n",
        "    </tr>\n",
        "    <tr>\n",
        "      <th>4</th>\n",
        "      <td> 2</td>\n",
        "      <td> 3</td>\n",
        "      <td> 0.201626</td>\n",
        "      <td> 0.072914</td>\n",
        "      <td> 0.077552</td>\n",
        "      <td> 0.063934</td>\n",
        "      <td> 0.043455</td>\n",
        "      <td> 0.108093</td>\n",
        "    </tr>\n",
        "  </tbody>\n",
        "</table>\n",
        "</div>"
       ],
       "metadata": {},
       "output_type": "pyout",
       "prompt_number": 313,
       "text": [
        "   Channel  Region     Fresh      Milk   Grocery    Frozen  Detergents_Paper  \\\n",
        "0        2       3  0.112940  0.130727  0.081464  0.003106          0.065427   \n",
        "1        2       3  0.062899  0.132824  0.103097  0.028548          0.080590   \n",
        "2        2       3  0.056622  0.119181  0.082790  0.039116          0.086052   \n",
        "3        1       3  0.118254  0.015536  0.045464  0.104842          0.012346   \n",
        "4        2       3  0.201626  0.072914  0.077552  0.063934          0.043455   \n",
        "\n",
        "   Delicassen  \n",
        "0    0.027847  \n",
        "1    0.036984  \n",
        "2    0.163559  \n",
        "3    0.037234  \n",
        "4    0.108093  "
       ]
      }
     ],
     "prompt_number": 313
    },
    {
     "cell_type": "code",
     "collapsed": false,
     "input": [
      "neigh = KMeans(n_clusters=6)\n",
      "neigh.fit(df[columns_to_scale])"
     ],
     "language": "python",
     "metadata": {},
     "outputs": [
      {
       "metadata": {},
       "output_type": "pyout",
       "prompt_number": 343,
       "text": [
        "KMeans(copy_x=True, init='k-means++', max_iter=300, n_clusters=6, n_init=10,\n",
        "    n_jobs=1, precompute_distances=True, random_state=None, tol=0.0001,\n",
        "    verbose=0)"
       ]
      }
     ],
     "prompt_number": 343
    },
    {
     "cell_type": "code",
     "collapsed": false,
     "input": [
      "df['cluster'] = np.zeros(len(df))\n",
      "for index, row in df[columns_to_scale].iterrows():\n",
      "    df['cluster'][index] = neigh.predict(row)\n",
      "    "
     ],
     "language": "python",
     "metadata": {},
     "outputs": [],
     "prompt_number": 344
    },
    {
     "cell_type": "code",
     "collapsed": false,
     "input": [
      "for cluster in range(6):\n",
      "    df[df['cluster'] == cluster][columns_to_scale].hist(figsize=(10,10), sharex=True)"
     ],
     "language": "python",
     "metadata": {},
     "outputs": [],
     "prompt_number": "*"
    },
    {
     "cell_type": "code",
     "collapsed": false,
     "input": [],
     "language": "python",
     "metadata": {},
     "outputs": []
    }
   ],
   "metadata": {}
  }
 ]
}